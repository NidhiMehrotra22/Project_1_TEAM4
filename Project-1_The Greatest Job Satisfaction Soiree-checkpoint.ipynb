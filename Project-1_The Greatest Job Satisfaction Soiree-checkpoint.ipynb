{
 "cells": [
  {
   "cell_type": "code",
   "execution_count": null,
   "id": "58dc02fd",
   "metadata": {},
   "outputs": [],
   "source": [
    "# Dependencies and Setup\n",
    "import pandas as pd\n",
    "import matplotlib.pyplot as plt\n",
    "import numpy as np\n",
    "import seaborn as sns"
   ]
  },
  {
   "cell_type": "code",
   "execution_count": null,
   "id": "5ab58f62",
   "metadata": {},
   "outputs": [],
   "source": [
    "# NM File path\n",
    "file_path = \"Resources/glassdoor_reviews.csv\""
   ]
  },
  {
   "cell_type": "code",
   "execution_count": null,
   "id": "34360b8c",
   "metadata": {},
   "outputs": [],
   "source": [
    "# NM Read File and store into Pandas DataFrames\n",
    "file_read= pd.read_csv(file_path)\n",
    "file_read.head()"
   ]
  },
  {
   "cell_type": "code",
   "execution_count": null,
   "id": "3f7cda42",
   "metadata": {},
   "outputs": [],
   "source": [
    "# NM show the data type of each column\n",
    "file_read.dtypes"
   ]
  },
  {
   "cell_type": "code",
   "execution_count": null,
   "id": "9e2a59ad",
   "metadata": {},
   "outputs": [],
   "source": [
    "#NM Calculate the total number of firms\n",
    "firm_total= file_read[\"firm\"].nunique()\n",
    "firm_total"
   ]
  },
  {
   "cell_type": "code",
   "execution_count": null,
   "id": "57a3002a",
   "metadata": {},
   "outputs": [],
   "source": [
    "# NM Calculate the total number of job titles\n",
    "job_title_total= file_read[\"job_title\"].nunique()\n",
    "job_title_total"
   ]
  },
  {
   "cell_type": "code",
   "execution_count": null,
   "id": "3d1b6574",
   "metadata": {},
   "outputs": [],
   "source": [
    "# NM Delete the columns which are not useful\n",
    "file_new= file_read.drop([\"column_label\",\"recommend\", \"ceo_approv\",\"outlook\",\"headline\",\"pros\", \"cons\", \"use\"], axis=1)\n",
    "file_new"
   ]
  },
  {
   "cell_type": "code",
   "execution_count": null,
   "id": "d744667f",
   "metadata": {},
   "outputs": [],
   "source": [
    "# VG Calculate the total number of firms\n",
    "firm_total= file_read[\"firm\"].nunique()\n",
    "firm_total"
   ]
  },
  {
   "cell_type": "code",
   "execution_count": null,
   "id": "50ec6160",
   "metadata": {},
   "outputs": [],
   "source": [
    "# VG Calculate the total number of job titles\n",
    "job_title_total= file_read[\"job_title\"].nunique()\n",
    "job_title_total"
   ]
  },
  {
   "cell_type": "code",
   "execution_count": null,
   "id": "6d2c8d51",
   "metadata": {},
   "outputs": [],
   "source": [
    "# NM Filter data by \"firm\" using groupby method\n",
    "firm_group= file_new.groupby([\"firm\"])\n",
    "firm_group"
   ]
  },
  {
   "cell_type": "code",
   "execution_count": null,
   "id": "c73605e7",
   "metadata": {},
   "outputs": [],
   "source": [
    "# VG Delete the columns which are not useful\n",
    "file_new= file_read.drop([\"column_label\",\"recommend\", \"ceo_approv\",\"outlook\",\"headline\",\"pros\", \"cons\", \"use\"], axis=1)\n",
    "file_new"
   ]
  },
  {
   "cell_type": "code",
   "execution_count": null,
   "id": "febb7c8b",
   "metadata": {},
   "outputs": [],
   "source": [
    "# VG Filter data by \"firm\" using groupby method\n",
    "firm_group= file_new.groupby([\"firm\"])\n",
    "firm_group.head()"
   ]
  },
  {
   "cell_type": "code",
   "execution_count": null,
   "id": "1a09fe96",
   "metadata": {},
   "outputs": [],
   "source": [
    "# VG Count number of \"job title\" in each firm \n",
    "firm_group[\"job_title\"].count()"
   ]
  },
  {
   "cell_type": "code",
   "execution_count": null,
   "id": "1f2b771a",
   "metadata": {},
   "outputs": [],
   "source": [
    "# NM Count number of \"job title\" in each firm \n",
    "firm_group[\"job_title\"].count()"
   ]
  },
  {
   "cell_type": "code",
   "execution_count": null,
   "id": "e235fe80",
   "metadata": {},
   "outputs": [],
   "source": [
    "# VG transpose date format\n",
    "file_new[\"year\"]= pd.Series(file_new[\"date_review\"]).str.slice(stop=4)\n",
    "file_new[\"month\"]= pd.Series(file_new[\"date_review\"]).str.slice(start=5,stop=7)\n",
    "file_new[\"day\"]= pd.Series(file_new[\"date_review\"]).str.slice(start=8,stop=10)\n",
    "file_new"
   ]
  },
  {
   "cell_type": "code",
   "execution_count": null,
   "id": "5d639577",
   "metadata": {},
   "outputs": [],
   "source": [
    "# NM Calculate Mean of the ratings based on the firms\n",
    "job_satis_df = firm_group[\"overall_rating\",\"work_life_balance\",\"culture_values\",\"diversity_inclusion\",\"career_opp\",\"comp_benefits\",\"senior_mgmt\"].mean()\n",
    "job_satis_df"
   ]
  },
  {
   "cell_type": "code",
   "execution_count": null,
   "id": "ecd620fc",
   "metadata": {},
   "outputs": [],
   "source": [
    "# VG - Remove unused columns. We only want to use the year\n",
    "file_clean= file_new.drop([\"date_review\",\"month\", \"day\"], axis=1)\n",
    "file_clean.head()"
   ]
  },
  {
   "cell_type": "code",
   "execution_count": null,
   "id": "ec33aa8d",
   "metadata": {},
   "outputs": [],
   "source": [
    "# VG - isolated the two companies to be reviewed. We chose Accenture & LEGO\n",
    "\n",
    "firm_reviews = file_clean.loc[(file_clean[\"firm\"]== \"Accenture\") | (file_clean[\"firm\"]== \"the-LEGO-Group\")]\n",
    "firm_reviews\n"
   ]
  },
  {
   "cell_type": "code",
   "execution_count": null,
   "id": "bdf3c3d4",
   "metadata": {},
   "outputs": [],
   "source": [
    "# VG - Groupby company name & year, showing all years of review\n",
    "firm_group_year = firm_reviews.groupby([\"firm\", \"year\"])\n",
    "\n",
    "\n",
    "firm_group_year.head()"
   ]
  },
  {
   "cell_type": "code",
   "execution_count": null,
   "id": "cfd87421",
   "metadata": {},
   "outputs": [],
   "source": [
    "# VG - Get the mean for each of the criteria being analysed & replace NAN values with 0\n",
    "company_ratings = firm_group_year[\"overall_rating\",\"work_life_balance\",\"culture_values\",\"diversity_inclusion\",\"career_opp\",\"comp_benefits\",\"senior_mgmt\"].mean()\n",
    "company_ratings = company_ratings.fillna(0)\n",
    "\n",
    "company_ratings"
   ]
  },
  {
   "cell_type": "code",
   "execution_count": null,
   "id": "1bb0fe3f",
   "metadata": {},
   "outputs": [],
   "source": [
    "# VG -  Extract the data for The LEGO Group\n",
    "\n",
    "lego_data = company_ratings.reset_index() \n",
    "legos = lego_data.loc[lego_data['firm']== 'the-LEGO-Group']\n",
    "legos"
   ]
  },
  {
   "cell_type": "code",
   "execution_count": null,
   "id": "8a41c7c2",
   "metadata": {},
   "outputs": [],
   "source": [
    "# VG -  Create the line chart for LEGO by overall rating\n",
    "\n",
    "plt.plot(legos['year'],legos['overall_rating'])\n",
    "plt.xlabel('Rating by Year')\n",
    "plt.ylabel('Overall Rating')\n",
    "plt.xticks(rotation=70) \n",
    "plt.title('the-LEGO-Group Employee Ratings')\n",
    "\n",
    "# Save into folder\n",
    "plt.savefig(\"Output/The-LEGO-Group Employee Ratings.png\",dpi=300, bbox_inches = \"tight\")\n",
    "\n",
    "plt.show()"
   ]
  },
  {
   "cell_type": "code",
   "execution_count": null,
   "id": "83b38e98",
   "metadata": {},
   "outputs": [],
   "source": [
    "# VG - Extract the data for Accenture\n",
    "\n",
    "\n",
    "accenture_data = company_ratings.reset_index() \n",
    "accenture = accenture_data.loc[accenture_data['firm']== 'Accenture']\n",
    "accenture"
   ]
  },
  {
   "cell_type": "code",
   "execution_count": null,
   "id": "db8f53ab",
   "metadata": {},
   "outputs": [],
   "source": [
    "# VG - Create the line chart for Accenture by overall rating\n",
    "\n",
    "\n",
    "plt.plot(accenture['year'],accenture['overall_rating'])\n",
    "plt.xlabel('Rating by Year')\n",
    "plt.ylabel('Overall rating')\n",
    "plt.xticks(rotation=70) \n",
    "plt.title('Accenture Employee Ratings')\n",
    "\n",
    "# VG Save into folder\n",
    "plt.savefig(\"Output/Accenture Employee Ratings.png\",dpi=300, bbox_inches = \"tight\")\n",
    "\n",
    "plt.show()"
   ]
  },
  {
   "cell_type": "code",
   "execution_count": null,
   "id": "50059e36",
   "metadata": {},
   "outputs": [],
   "source": [
    "# VG - most successfully rated years (overall rating)\n",
    "best_yrs = company_ratings.sort_values(\"overall_rating\", ascending = False)\n",
    "best_yrs.head(10)\n"
   ]
  },
  {
   "cell_type": "code",
   "execution_count": null,
   "id": "b083efc2",
   "metadata": {},
   "outputs": [],
   "source": [
    "# VG - least successfully rated years (overall rating)\n",
    "low_yrs = best_yrs.tail()\n",
    "low_yrs = low_yrs.sort_values('overall_rating')\n",
    "low_yrs.head()"
   ]
  },
  {
   "cell_type": "code",
   "execution_count": null,
   "id": "f8b4857e",
   "metadata": {},
   "outputs": [],
   "source": [
    "best_yrs.plot()\n",
    "xlabel=(\"Firm\")\n",
    "plt.ylabel(\"Ratings\")\n",
    "plt.xticks(rotation=70) \n",
    "plt.legend(loc = \"best\", bbox_to_anchor = (1.0, 1.0))\n",
    "plt.savefig(\"Output/Best Years.png\",dpi=300, bbox_inches = \"tight\")\n",
    "plt.figure(figsize=(20,8))\n",
    "plt.show()"
   ]
  },
  {
   "cell_type": "code",
   "execution_count": null,
   "id": "4674abc9",
   "metadata": {},
   "outputs": [],
   "source": [
    "ratings = company_ratings.plot.area(figsize=(20, 8), subplots=True)\n",
    "plt.savefig(\"Output/Company Rating Changes Over Time.png\",dpi=300, bbox_inches = \"tight\")\n",
    "\n",
    "plt.show()"
   ]
  },
  {
   "cell_type": "code",
   "execution_count": null,
   "id": "830915f4",
   "metadata": {},
   "outputs": [],
   "source": [
    "# NM Replace NaN/None Values with Zero\n",
    "job_satis_na_df = job_satis_df.fillna(0)\n",
    "job_satis_na_df"
   ]
  },
  {
   "cell_type": "code",
   "execution_count": null,
   "id": "1e470b5d",
   "metadata": {},
   "outputs": [],
   "source": [
    "# NM nsmallest() helps to get the smallest numbers from a variable or from a dataset.\n",
    "overall_rating_lowest= job_satis_na_df.nsmallest(n=5, columns=['overall_rating'])\n",
    "overall_rating_lowest"
   ]
  },
  {
   "cell_type": "code",
   "execution_count": null,
   "id": "94c95e6f",
   "metadata": {},
   "outputs": [],
   "source": [
    "# NM nlargest () helps to get the highest numbers from a variable or from a dataset.\n",
    "overall_rating_largest= job_satis_na_df.nlargest(n=5, columns=['overall_rating'])\n",
    "overall_rating_largest"
   ]
  },
  {
   "cell_type": "code",
   "execution_count": null,
   "id": "5fe75e64",
   "metadata": {},
   "outputs": [],
   "source": [
    "# NM Generate a bar plot to compare the Bottom 5 Firms Overall Rating vs their various work environment factors\n",
    "x_axis= np.arange(len(overall_rating_lowest))\n",
    "ticks= list(overall_rating_lowest.index.values)\n",
    "tick_locations= [value +0.4 for value in x_axis]\n",
    "plt.xticks(tick_locations, ticks,rotation=\"90\")\n",
    "overall = plt.bar(x_axis +0.13, overall_rating_lowest[\"overall_rating\"], width=0.12, label = \"Overall Rating\", color=\"red\", alpha=0.75, align=\"center\")\n",
    "wlb = plt.bar(x_axis +0.25, overall_rating_lowest[\"work_life_balance\"], width=0.12, label = \"Work Life Balance\", color=\"b\", alpha=0.75, align=\"center\")\n",
    "cul_val = plt.bar(x_axis +0.35, overall_rating_lowest[\"culture_values\"], width=0.12, label = \"Culture values\", color=\"g\", alpha=0.75, align=\"center\")\n",
    "div_inc = plt.bar(x_axis +0.45, overall_rating_lowest[\"diversity_inclusion\"], width=0.12, label = \"Diversity inclusion\", color=\"orange\", alpha=0.75, align=\"center\")\n",
    "carrer_opp = plt.bar(x_axis +0.55, overall_rating_lowest[\"career_opp\"], width=0.12, label = \"Career opportunities\", color=\"y\", alpha=0.75, align=\"center\")\n",
    "comp_ben = plt.bar(x_axis +0.65, overall_rating_lowest[\"comp_benefits\"], width=0.12, label = \"Company benefits\", color=\"purple\", alpha=0.75, align=\"center\")\n",
    "senior_mgt= plt.bar(x_axis +0.75, overall_rating_lowest[\"senior_mgmt\"], width=0.12, label = 'Senior management', color=\"cyan\", alpha=0.75, align=\"center\")\n",
    "plt.xlim(-0.5, len(x_axis))\n",
    "plt.ylim(0,4 + 0.25)\n",
    "plt.legend(handles = [overall,wlb,cul_val,div_inc,carrer_opp,comp_ben,senior_mgt ], loc = \"best\", bbox_to_anchor = (1.0, 1.0))\n",
    "plt.title(\"Bottom 5 Firms Overall Rating vs Work environment factor\")\n",
    "plt.savefig(\"Output/Bottom 5 Firms Overall Rating vs Work environment factor.png\",dpi=300, bbox_inches = \"tight\")\n",
    "plt.figure(figsize=(10,8))\n",
    "plt.tight_layout()\n",
    "plt.show()"
   ]
  },
  {
   "cell_type": "code",
   "execution_count": null,
   "id": "b301b7c7",
   "metadata": {},
   "outputs": [],
   "source": [
    "# # NM Generate a bar plot to compare the Top 5 Firms Overall Rating vs their various work environment factors\n",
    "x_axis= np.arange(len(overall_rating_largest))\n",
    "ticks= list(overall_rating_largest.index.values)\n",
    "tick_locations= [value +0.4 for value in x_axis]\n",
    "plt.xticks(tick_locations, ticks,rotation=\"90\")\n",
    "overall = plt.bar(x_axis +0.13, overall_rating_largest[\"overall_rating\"], width=0.12, label = \"Overall Rating\", color=\"red\", alpha=0.75, align=\"center\")\n",
    "wlb = plt.bar(x_axis +0.25, overall_rating_largest[\"work_life_balance\"], width=0.12, label = \"Work Life Balance\", color=\"b\", alpha=0.75, align=\"center\")\n",
    "cul_val = plt.bar(x_axis +0.35, overall_rating_largest[\"culture_values\"], width=0.12, label = \"Culture values\", color=\"g\", alpha=0.75, align=\"center\")\n",
    "div_inc = plt.bar(x_axis +0.45, overall_rating_largest[\"diversity_inclusion\"], width=0.12, label = \"Diversity inclusion\", color=\"orange\", alpha=0.75, align=\"center\")\n",
    "carrer_opp = plt.bar(x_axis +0.55, overall_rating_largest[\"career_opp\"], width=0.12, label = \"Career opportunities\", color=\"y\", alpha=0.75, align=\"center\")\n",
    "comp_ben = plt.bar(x_axis +0.65, overall_rating_largest[\"comp_benefits\"], width=0.12, label = \"Company benefits\", color=\"purple\", alpha=0.75, align=\"center\")\n",
    "senior_mgt= plt.bar(x_axis +0.75, overall_rating_largest[\"senior_mgmt\"], width=0.12, label = 'Senior management', color=\"cyan\", alpha=0.75, align=\"center\")\n",
    "plt.xlim(-0.5, len(x_axis))\n",
    "plt.ylim(0,5 + 0.5)\n",
    "plt.legend(handles = [overall,wlb,cul_val,div_inc,carrer_opp,comp_ben,senior_mgt ], loc = \"best\", bbox_to_anchor = (1.0, 1.0))\n",
    "plt.title(\"Top 5 Firms Overall Rating v/s Work environment factor\")\n",
    "plt.savefig(\"Output/Top 5 Firms Overall Rating.png\",dpi=300, bbox_inches = \"tight\")\n",
    "plt.figure(figsize=(10,8))\n",
    "plt.tight_layout()\n",
    "plt.show()\n"
   ]
  },
  {
   "cell_type": "code",
   "execution_count": null,
   "id": "f6c9328a",
   "metadata": {},
   "outputs": [],
   "source": [
    "# # NM\n",
    "file_new[\"year\"]= pd.Series(file_new[\"date_review\"]).str.slice(stop=4)\n",
    "file_new[\"month\"]= pd.Series(file_new[\"date_review\"]).str.slice(start=5,stop=7)\n",
    "file_new[\"day\"]= pd.Series(file_new[\"date_review\"]).str.slice(start=8,stop=10)\n",
    "file_new"
   ]
  },
  {
   "cell_type": "code",
   "execution_count": null,
   "id": "abae73ff",
   "metadata": {},
   "outputs": [],
   "source": [
    "# # NM\n",
    "file_new= file_new.drop([\"date_review\",\"month\", \"day\"], axis=1)\n",
    "file_new"
   ]
  },
  {
   "cell_type": "code",
   "execution_count": null,
   "id": "25ccbdc3",
   "metadata": {},
   "outputs": [],
   "source": [
    "# # NM\n",
    "firm_year_df= file_new.loc[file_new[\"firm\"].isin([\"Accenture\",\"the-LEGO-Group\"]), :]\n",
    "firm_year_df"
   ]
  },
  {
   "cell_type": "code",
   "execution_count": null,
   "id": "986a21b5",
   "metadata": {},
   "outputs": [],
   "source": [
    "# # JW\n",
    "lego_df= file_new.loc[file_new[\"firm\"].isin([\"the-LEGO-Group\"]), :]\n",
    "lego_df"
   ]
  },
  {
   "cell_type": "code",
   "execution_count": null,
   "id": "ae7d46bb",
   "metadata": {},
   "outputs": [],
   "source": [
    "accenture_df= file_new.loc[file_new[\"firm\"].isin([\"Accenture\"]), :]\n",
    "accenture_df"
   ]
  },
  {
   "cell_type": "code",
   "execution_count": null,
   "id": "dca0f967",
   "metadata": {},
   "outputs": [],
   "source": [
    "# # JW\n",
    "lego_loc= lego_df.groupby([\"location\"])\n",
    "accenture_loc = accenture_df.groupby([\"location\"])\n",
    "lego_loc.head()"
   ]
  },
  {
   "cell_type": "code",
   "execution_count": null,
   "id": "c91e1372",
   "metadata": {
    "scrolled": true
   },
   "outputs": [],
   "source": [
    "# # NM\n",
    "firm_group_year= firm_year_df.groupby([\"firm\",\"year\"])\n",
    "firm_group_year.head()"
   ]
  },
  {
   "cell_type": "code",
   "execution_count": null,
   "id": "21544f85",
   "metadata": {},
   "outputs": [],
   "source": [
    "accenture_loc_df = accenture_loc[\"overall_rating\", \"work_life_balance\",\"culture_values\"].mean()\n",
    "accenture_loc_df2 = accenture_loc[\"overall_rating\",\"work_life_balance\",\"culture_values\",\"diversity_inclusion\",\"career_opp\",\"comp_benefits\",\"senior_mgmt\"].mean()\n",
    "accenture_locations = accenture_loc_df.index\n",
    "accenture_loc_df2"
   ]
  },
  {
   "cell_type": "code",
   "execution_count": null,
   "id": "eecd65ac",
   "metadata": {},
   "outputs": [],
   "source": [
    "# JW\n",
    "lego_loc_df = lego_loc[\"overall_rating\", \"work_life_balance\",\"culture_values\"].mean()\n",
    "lego_loc_df2 = lego_loc[\"overall_rating\",\"work_life_balance\",\"culture_values\",\"diversity_inclusion\",\"career_opp\",\"comp_benefits\",\"senior_mgmt\"].mean()\n",
    "lego_locations = lego_loc_df.index\n",
    "lego_loc_df2"
   ]
  },
  {
   "cell_type": "code",
   "execution_count": null,
   "id": "c61e3909",
   "metadata": {},
   "outputs": [],
   "source": [
    "# # NM\n",
    "firm_group_rating_yearly= firm_group_year[\"overall_rating\",\"work_life_balance\",\"culture_values\",\"diversity_inclusion\",\"career_opp\",\"comp_benefits\",\"senior_mgmt\"].mean()\n",
    "firm_group_rating_yearly"
   ]
  },
  {
   "cell_type": "code",
   "execution_count": null,
   "id": "c25af1bd",
   "metadata": {},
   "outputs": [],
   "source": [
    "# # JW\n",
    "\n",
    "best_lego = lego_loc_df.nlargest(12, \"overall_rating\")\n",
    "best_lego = best_lego.fillna(0)\n",
    "best_lego"
   ]
  },
  {
   "cell_type": "code",
   "execution_count": null,
   "id": "5bfd5dbc",
   "metadata": {},
   "outputs": [],
   "source": [
    "best_lego2 = lego_loc_df2.nlargest(12, \"overall_rating\")\n",
    "best_lego2 = best_lego2.fillna(0)\n",
    "best_lego2"
   ]
  },
  {
   "cell_type": "code",
   "execution_count": null,
   "id": "45453518",
   "metadata": {},
   "outputs": [],
   "source": [
    "best_accenture = accenture_loc_df.nlargest(12, \"overall_rating\")\n",
    "best_accenture = best_accenture.fillna(0)\n",
    "best_accenture"
   ]
  },
  {
   "cell_type": "code",
   "execution_count": null,
   "id": "53a41087",
   "metadata": {},
   "outputs": [],
   "source": [
    "best_accenture2 = accenture_loc_df2.nlargest(12, \"overall_rating\")\n",
    "best_accenture2 = best_accenture2.fillna(0)\n",
    "best_accenture2"
   ]
  },
  {
   "cell_type": "code",
   "execution_count": null,
   "id": "38e57f28",
   "metadata": {},
   "outputs": [],
   "source": [
    "worst_lego = lego_loc_df.nsmallest(12, \"overall_rating\")\n",
    "worst_lego = worst_lego.fillna(0)\n",
    "worst_lego2 = lego_loc_df2.nsmallest(12, \"overall_rating\")\n",
    "worst_lego2 = worst_lego2.fillna(0)\n",
    "worst_lego"
   ]
  },
  {
   "cell_type": "code",
   "execution_count": null,
   "id": "2561b6f5",
   "metadata": {},
   "outputs": [],
   "source": [
    "worst_accenture = accenture_loc_df.nsmallest(12, \"overall_rating\")\n",
    "worst_accenture = worst_accenture.fillna(0)\n",
    "worst_accenture2 = accenture_loc_df2.nsmallest(12, \"overall_rating\")\n",
    "worst_accenture2 = worst_accenture2.fillna(0)\n",
    "worst_accenture2"
   ]
  },
  {
   "cell_type": "code",
   "execution_count": null,
   "id": "f42abf12",
   "metadata": {},
   "outputs": [],
   "source": [
    "# # NM\n",
    "firm_group_rating_yearly = firm_group_rating_yearly.fillna(0)\n",
    "firm_group_rating_yearly"
   ]
  },
  {
   "cell_type": "code",
   "execution_count": null,
   "id": "1976cb96",
   "metadata": {},
   "outputs": [],
   "source": [
    "# # NM\n",
    "sns.relplot(data = firm_group_rating_yearly, x = \"year\", y = \"overall_rating\", hue = \"firm\", kind=\"line\")\n",
    "plt.xticks(rotation=60)\n",
    "plt.title('Yearly Change Overall Rating By Firm')\n",
    "plt.xlabel('Year')\n",
    "plt.ylabel('Overall Rating')\n",
    "plt.savefig(\"Output/Yearly Change Overall Rating By Firm.png\",dpi=300, bbox_inches = \"tight\")\n",
    "plt.show()\n"
   ]
  },
  {
   "cell_type": "code",
   "execution_count": null,
   "id": "6792bf90",
   "metadata": {},
   "outputs": [],
   "source": [
    "worst_accenture.plot.line(figsize=(10, 8))\n",
    "plt.xticks(rotation=90)\n",
    "plt.legend(worst_accenture.columns,loc='best')\n",
    "plt.title(\"Worst Accenture Locations\")\n",
    "plt.savefig(\"Output/Worst Accenture Locations.png\",dpi=300, bbox_inches = \"tight\")\n",
    "plt.show()"
   ]
  },
  {
   "cell_type": "code",
   "execution_count": null,
   "id": "9d76dbfb",
   "metadata": {},
   "outputs": [],
   "source": [
    "best_accenture.plot.line(figsize=(10, 8))\n",
    "plt.xticks(rotation=90)\n",
    "plt.legend(best_accenture.columns,loc='best')\n",
    "plt.title(\"Best Accenture Locations\")\n",
    "plt.savefig(\"Output/Best Accenture Locations.png\",dpi=300, bbox_inches = \"tight\")\n",
    "plt.show()"
   ]
  },
  {
   "cell_type": "code",
   "execution_count": null,
   "id": "badfa344",
   "metadata": {},
   "outputs": [],
   "source": [
    "worst_lego.plot.line(figsize=(10, 8))\n",
    "plt.xticks(rotation=90)\n",
    "plt.legend(worst_lego.columns,loc='best')\n",
    "plt.title(\"Worst Lego Locations\")\n",
    "plt.savefig(\"Output/Worst Lego Locations.png\",dpi=300, bbox_inches = \"tight\")\n",
    "plt.show()"
   ]
  },
  {
   "cell_type": "code",
   "execution_count": null,
   "id": "920f6596",
   "metadata": {},
   "outputs": [],
   "source": [
    "best_lego.plot.line(figsize=(10, 8))\n",
    "plt.xticks(rotation=90)\n",
    "plt.legend(best_lego.columns,loc='best')\n",
    "plt.title(\"Best Lego Locations\")\n",
    "plt.savefig(\"Output/Best Lego Locations.png\",dpi=300, bbox_inches = \"tight\")\n",
    "plt.show()"
   ]
  },
  {
   "cell_type": "code",
   "execution_count": null,
   "id": "c2801b70",
   "metadata": {},
   "outputs": [],
   "source": [
    "ratings = best_lego.plot.line(figsize=(10, 8), subplots=True, title=\"Best Lego Locations\")\n",
    "plt.xticks(rotation=90)\n",
    "plt.savefig(\"Output/Best Lego Locations 2.png\",dpi=300, bbox_inches = \"tight\")\n",
    "plt.show()"
   ]
  },
  {
   "cell_type": "code",
   "execution_count": null,
   "id": "d5c602f7",
   "metadata": {},
   "outputs": [],
   "source": [
    "ratings = worst_lego.plot.line(figsize=(10, 8), subplots=True, title=\"Worst Lego Locations\")\n",
    "plt.xticks(rotation=90)\n",
    "plt.savefig(\"Output/Worst Lego Locations 2.png\",dpi=300, bbox_inches = \"tight\")\n",
    "plt.show()"
   ]
  },
  {
   "cell_type": "code",
   "execution_count": null,
   "id": "4ef76edb",
   "metadata": {},
   "outputs": [],
   "source": [
    "ratings = best_accenture.plot.line(figsize=(10, 8), subplots=True, title=\"Best Accenture Locations\")\n",
    "plt.xticks(rotation=90)\n",
    "plt.savefig(\"Output/Best Accenture Locations 2.png\",dpi=300, bbox_inches = \"tight\")\n",
    "plt.show()"
   ]
  },
  {
   "cell_type": "code",
   "execution_count": null,
   "id": "2d2c2543",
   "metadata": {},
   "outputs": [],
   "source": [
    "ratings = worst_accenture.plot.line(figsize=(10, 8), subplots=True, title=\"Worst Accenture Locations\")\n",
    "plt.xticks(rotation=90)\n",
    "plt.savefig(\"Output/Worst Accenture Locations 2.png\")\n",
    "plt.show()"
   ]
  },
  {
   "cell_type": "code",
   "execution_count": null,
   "id": "491e22b7",
   "metadata": {},
   "outputs": [],
   "source": [
    "# location_lowest= lego_loc_df.nsmallest(n=10, columns=['overall_rating'])\n",
    "\n",
    "location_lowest = worst_lego2\n",
    "location_lowest"
   ]
  },
  {
   "cell_type": "code",
   "execution_count": null,
   "id": "5bd85abf",
   "metadata": {},
   "outputs": [],
   "source": [
    "x_axis= np.arange(len(location_lowest))\n",
    "ticks= list(location_lowest.index.values)\n",
    "tick_locations= [value +0.4 for value in x_axis]\n",
    "plt.xticks(tick_locations, ticks,rotation=\"90\")\n",
    "overall = plt.bar(x_axis +0.13, location_lowest[\"overall_rating\"], width=0.12, label = \"Overall Rating\", color=\"red\", alpha=0.75, align=\"center\")\n",
    "wlb = plt.bar(x_axis +0.25, location_lowest[\"work_life_balance\"], width=0.12, label = \"Work Life Balance\", color=\"b\", alpha=0.75, align=\"center\")\n",
    "cul_val = plt.bar(x_axis +0.35, location_lowest[\"culture_values\"], width=0.12, label = \"Culture values\", color=\"g\", alpha=0.75, align=\"center\")\n",
    "div_inc = plt.bar(x_axis +0.45, location_lowest[\"diversity_inclusion\"], width=0.12, label = \"Diversity inclusion\", color=\"orange\", alpha=0.75, align=\"center\")\n",
    "carrer_opp = plt.bar(x_axis +0.55, location_lowest[\"career_opp\"], width=0.12, label = \"Career opportunities\", color=\"y\", alpha=0.75, align=\"center\")\n",
    "comp_ben = plt.bar(x_axis +0.65, location_lowest[\"comp_benefits\"], width=0.12, label = \"Company benefits\", color=\"purple\", alpha=0.75, align=\"center\")\n",
    "senior_mgt= plt.bar(x_axis +0.75, location_lowest[\"senior_mgmt\"], width=0.12, label = 'Senior management', color=\"cyan\", alpha=0.75, align=\"center\")\n",
    "plt.xlim(-0.5, len(x_axis))\n",
    "plt.ylim(0,5 + 0.5)\n",
    "plt.legend(handles = [overall,wlb,cul_val,div_inc,carrer_opp,comp_ben,senior_mgt ], loc = \"best\", bbox_to_anchor = (1.0, 1.0))\n",
    "\n",
    "# plt.legend(handles = [overall,wlb,cul_val ], loc = \"best\", bbox_to_anchor = (1.0, 1.0))\n",
    "plt.title(\"Lego Worst Locations Overall Rating v/s Work environment factor\")\n",
    "plt.savefig(\"Output/Lego Worst Location Overall Rating.png\",dpi=300, bbox_inches = \"tight\")\n",
    "plt.figure(figsize=(100,8))\n",
    "plt.tight_layout()\n",
    "plt.show()\n"
   ]
  },
  {
   "cell_type": "code",
   "execution_count": null,
   "id": "8288bd64",
   "metadata": {},
   "outputs": [],
   "source": [
    "location_lowest2 = worst_accenture2\n",
    "location_lowest2"
   ]
  },
  {
   "cell_type": "code",
   "execution_count": null,
   "id": "8a7b70de",
   "metadata": {},
   "outputs": [],
   "source": [
    "x_axis= np.arange(len(location_lowest2))\n",
    "ticks= list(location_lowest2.index.values)\n",
    "tick_locations= [value +0.4 for value in x_axis]\n",
    "plt.xticks(tick_locations, ticks,rotation=\"90\")\n",
    "overall = plt.bar(x_axis +0.13, location_lowest2[\"overall_rating\"], width=0.12, label = \"Overall Rating\", color=\"red\", alpha=0.75, align=\"center\")\n",
    "wlb = plt.bar(x_axis +0.25, location_lowest2[\"work_life_balance\"], width=0.12, label = \"Work Life Balance\", color=\"b\", alpha=0.75, align=\"center\")\n",
    "cul_val = plt.bar(x_axis +0.35, location_lowest2[\"culture_values\"], width=0.12, label = \"Culture values\", color=\"g\", alpha=0.75, align=\"center\")\n",
    "div_inc = plt.bar(x_axis +0.45, location_lowest2[\"diversity_inclusion\"], width=0.12, label = \"Diversity inclusion\", color=\"orange\", alpha=0.75, align=\"center\")\n",
    "carrer_opp = plt.bar(x_axis +0.55, location_lowest2[\"career_opp\"], width=0.12, label = \"Career opportunities\", color=\"y\", alpha=0.75, align=\"center\")\n",
    "comp_ben = plt.bar(x_axis +0.65, location_lowest2[\"comp_benefits\"], width=0.12, label = \"Company benefits\", color=\"purple\", alpha=0.75, align=\"center\")\n",
    "senior_mgt= plt.bar(x_axis +0.75, location_lowest2[\"senior_mgmt\"], width=0.12, label = 'Senior management', color=\"cyan\", alpha=0.75, align=\"center\")\n",
    "plt.xlim(-0.5, len(x_axis))\n",
    "plt.ylim(0,5 + 0.5)\n",
    "plt.legend(handles = [overall,wlb,cul_val,div_inc,carrer_opp,comp_ben,senior_mgt ], loc = \"best\", bbox_to_anchor = (1.0, 1.0))\n",
    "\n",
    "# plt.legend(handles = [overall,wlb,cul_val ], loc = \"best\", bbox_to_anchor = (1.0, 1.0))\n",
    "plt.title(\"Accenture Location Overall Rating v/s Work environment factor\")\n",
    "plt.savefig(\"Output/Accenture Worst Locations Overall Rating.png\",dpi=300, bbox_inches = \"tight\")\n",
    "plt.figure(figsize=(100,8))\n",
    "plt.tight_layout()\n",
    "plt.show()"
   ]
  },
  {
   "cell_type": "code",
   "execution_count": null,
   "id": "e4537f41",
   "metadata": {},
   "outputs": [],
   "source": [
    "location_highest = best_lego2\n",
    "best_lego2"
   ]
  },
  {
   "cell_type": "code",
   "execution_count": null,
   "id": "230d0a7d",
   "metadata": {},
   "outputs": [],
   "source": [
    "x_axis= np.arange(len(location_highest))\n",
    "ticks= list(location_highest.index.values)\n",
    "tick_locations= [value +0.4 for value in x_axis]\n",
    "plt.xticks(tick_locations, ticks,rotation=\"90\")\n",
    "overall = plt.bar(x_axis +0.13, location_highest[\"overall_rating\"], width=0.12, label = \"Overall Rating\", color=\"red\", alpha=0.75, align=\"center\")\n",
    "wlb = plt.bar(x_axis +0.25, location_highest[\"work_life_balance\"], width=0.12, label = \"Work Life Balance\", color=\"b\", alpha=0.75, align=\"center\")\n",
    "cul_val = plt.bar(x_axis +0.35, location_highest[\"culture_values\"], width=0.12, label = \"Culture values\", color=\"g\", alpha=0.75, align=\"center\")\n",
    "div_inc = plt.bar(x_axis +0.45, location_highest[\"diversity_inclusion\"], width=0.12, label = \"Diversity inclusion\", color=\"orange\", alpha=0.75, align=\"center\")\n",
    "carrer_opp = plt.bar(x_axis +0.55, location_highest[\"career_opp\"], width=0.12, label = \"Career opportunities\", color=\"y\", alpha=0.75, align=\"center\")\n",
    "comp_ben = plt.bar(x_axis +0.65, location_highest[\"comp_benefits\"], width=0.12, label = \"Company benefits\", color=\"purple\", alpha=0.75, align=\"center\")\n",
    "senior_mgt= plt.bar(x_axis +0.75, location_highest[\"senior_mgmt\"], width=0.12, label = 'Senior management', color=\"cyan\", alpha=0.75, align=\"center\")\n",
    "plt.xlim(-0.5, len(x_axis))\n",
    "plt.ylim(0,5.1 + 0.5)\n",
    "plt.legend(handles = [overall,wlb,cul_val,div_inc,carrer_opp,comp_ben,senior_mgt ], loc = \"best\", bbox_to_anchor = (1.0, 1.0))\n",
    "\n",
    "# plt.legend(handles = [overall,wlb,cul_val ], loc = \"best\", bbox_to_anchor = (1.0, 1.0))\n",
    "plt.title(\"Lego Best Locations Overall Rating v/s Work environment factor\")\n",
    "plt.savefig(\"Output/Lego Best Locations Overall Rating.png\",dpi=300, bbox_inches = \"tight\")\n",
    "plt.figure(figsize=(100,8))\n",
    "plt.tight_layout()\n",
    "plt.show()"
   ]
  },
  {
   "cell_type": "code",
   "execution_count": null,
   "id": "f303307e",
   "metadata": {},
   "outputs": [],
   "source": [
    "location_highest2 = best_accenture2\n",
    "best_accenture2"
   ]
  },
  {
   "cell_type": "code",
   "execution_count": null,
   "id": "b824f211",
   "metadata": {},
   "outputs": [],
   "source": [
    "x_axis= np.arange(len(location_highest))\n",
    "ticks= list(location_highest.index.values)\n",
    "tick_locations= [value +0.4 for value in x_axis]\n",
    "plt.xticks(tick_locations, ticks,rotation=\"90\")\n",
    "overall = plt.bar(x_axis +0.13, location_highest[\"overall_rating\"], width=0.12, label = \"Overall Rating\", color=\"red\", alpha=0.75, align=\"center\")\n",
    "wlb = plt.bar(x_axis +0.25, location_highest[\"work_life_balance\"], width=0.12, label = \"Work Life Balance\", color=\"b\", alpha=0.75, align=\"center\")\n",
    "cul_val = plt.bar(x_axis +0.35, location_highest[\"culture_values\"], width=0.12, label = \"Culture values\", color=\"g\", alpha=0.75, align=\"center\")\n",
    "div_inc = plt.bar(x_axis +0.45, location_highest[\"diversity_inclusion\"], width=0.12, label = \"Diversity inclusion\", color=\"orange\", alpha=0.75, align=\"center\")\n",
    "carrer_opp = plt.bar(x_axis +0.55, location_highest[\"career_opp\"], width=0.12, label = \"Career opportunities\", color=\"y\", alpha=0.75, align=\"center\")\n",
    "comp_ben = plt.bar(x_axis +0.65, location_highest[\"comp_benefits\"], width=0.12, label = \"Company benefits\", color=\"purple\", alpha=0.75, align=\"center\")\n",
    "senior_mgt= plt.bar(x_axis +0.75, location_highest[\"senior_mgmt\"], width=0.12, label = 'Senior management', color=\"cyan\", alpha=0.75, align=\"center\")\n",
    "plt.xlim(-0.5, len(x_axis))\n",
    "plt.ylim(0,5.1 + 0.5)\n",
    "plt.legend(handles = [overall,wlb,cul_val,div_inc,carrer_opp,comp_ben,senior_mgt ], loc = \"best\", bbox_to_anchor = (1.0, 1.0))\n",
    "\n",
    "# plt.legend(handles = [overall,wlb,cul_val ], loc = \"best\", bbox_to_anchor = (1.0, 1.0))\n",
    "plt.title(\"Accenture Best Locations Overall Rating v/s Work environment factor\")\n",
    "plt.savefig(\"Output/Accenture Best Locations Overall Rating.png\",dpi=300, bbox_inches = \"tight\")\n",
    "plt.figure(figsize=(100,8))\n",
    "plt.tight_layout()\n",
    "plt.show()"
   ]
  },
  {
   "cell_type": "code",
   "execution_count": null,
   "id": "01c076dc",
   "metadata": {},
   "outputs": [],
   "source": []
  }
 ],
 "metadata": {
  "kernelspec": {
   "display_name": "Python 3 (ipykernel)",
   "language": "python",
   "name": "python3"
  },
  "language_info": {
   "codemirror_mode": {
    "name": "ipython",
    "version": 3
   },
   "file_extension": ".py",
   "mimetype": "text/x-python",
   "name": "python",
   "nbconvert_exporter": "python",
   "pygments_lexer": "ipython3",
   "version": "3.7.7"
  }
 },
 "nbformat": 4,
 "nbformat_minor": 5
}
