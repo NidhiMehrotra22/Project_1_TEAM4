{
 "cells": [
  {
   "cell_type": "code",
   "execution_count": null,
   "id": "78e77ef6",
   "metadata": {},
   "outputs": [],
   "source": [
    "# print(\"Vic was here\")\n",
    "# print(\"Jon is here too\")"
   ]
  },
  {
   "cell_type": "code",
   "execution_count": null,
   "id": "f9bcd7d3",
   "metadata": {},
   "outputs": [],
   "source": [
    "\n",
    "# Dependencies and Setup\n",
    "import pandas as pd\n",
    "import matplotlib.pyplot as plt\n",
    "import scipy.stats as st\n",
    "import numpy as np\n",
    "\n",
    "import os"
   ]
  },
  {
   "cell_type": "code",
   "execution_count": null,
   "id": "3ab964fa",
   "metadata": {},
   "outputs": [],
   "source": [
    "#File path\n",
    "file_path = \"Resources/glassdoor_reviews.csv\""
   ]
  },
  {
   "cell_type": "code",
   "execution_count": null,
   "id": "b02cd156",
   "metadata": {},
   "outputs": [],
   "source": [
    "# Read File and store into Pandas DataFrames\n",
    "file_read= pd.read_csv(file_path)\n",
    "file_read.head()"
   ]
  },
  {
   "cell_type": "code",
   "execution_count": null,
   "id": "a4fb7c57",
   "metadata": {},
   "outputs": [],
   "source": [
    "file_read.dtypes"
   ]
  },
  {
   "cell_type": "code",
   "execution_count": null,
   "id": "f3a856ec",
   "metadata": {},
   "outputs": [],
   "source": [
    "# file_read.dropna(how=\"any\")\n"
   ]
  },
  {
   "cell_type": "code",
   "execution_count": null,
   "id": "f0880bcb",
   "metadata": {},
   "outputs": [],
   "source": [
    "#Calculate the total number of firms\n",
    "firm_total= file_read[\"firm\"].nunique()\n",
    "firm_total"
   ]
  },
  {
   "cell_type": "code",
   "execution_count": null,
   "id": "c09c1daf",
   "metadata": {},
   "outputs": [],
   "source": [
    "#Calculate the total number of job titles\n",
    "job_title_total= file_read[\"job_title\"].nunique()\n",
    "job_title_total"
   ]
  },
  {
   "cell_type": "code",
   "execution_count": null,
   "id": "3a57ef6f",
   "metadata": {},
   "outputs": [],
   "source": []
  },
  {
   "cell_type": "code",
   "execution_count": null,
   "id": "58e1f322",
   "metadata": {},
   "outputs": [],
   "source": [
    "#Delete the columns which are not useful\n",
    "file_new= file_read.drop([\"column_label\",\"recommend\", \"ceo_approv\",\"outlook\",\"headline\",\"pros\", \"cons\", \"use\"], axis=1)\n",
    "file_new"
   ]
  },
  {
   "cell_type": "code",
   "execution_count": null,
   "id": "bc7d04d0",
   "metadata": {},
   "outputs": [],
   "source": [
    "#Filter data by \"firm\" using groupby method\n",
    "firm_group= file_new.groupby([\"firm\"])\n",
    "firm_group.head()"
   ]
  },
  {
   "cell_type": "code",
   "execution_count": null,
   "id": "edbfe58c",
   "metadata": {},
   "outputs": [],
   "source": [
    "#Count number of \"job title\" in each firm \n",
    "firm_group[\"job_title\"].count()"
   ]
  },
  {
   "cell_type": "code",
   "execution_count": null,
   "id": "b8d54b6d",
   "metadata": {},
   "outputs": [],
   "source": [
    "# transpose date format\n",
    "file_new[\"year\"]= pd.Series(file_new[\"date_review\"]).str.slice(stop=4)\n",
    "file_new[\"month\"]= pd.Series(file_new[\"date_review\"]).str.slice(start=5,stop=7)\n",
    "file_new[\"day\"]= pd.Series(file_new[\"date_review\"]).str.slice(start=8,stop=10)\n",
    "file_new"
   ]
  },
  {
   "cell_type": "code",
   "execution_count": null,
   "id": "24a377c9",
   "metadata": {},
   "outputs": [],
   "source": [
    "# VG - Remove unused columns. We only want to use the year\n",
    "file_clean= file_new.drop([\"date_review\",\"month\", \"day\"], axis=1)\n",
    "file_clean.head()"
   ]
  },
  {
   "cell_type": "code",
   "execution_count": null,
   "id": "7c70802a",
   "metadata": {},
   "outputs": [],
   "source": [
    "# VG - isolated the two companies to be reviewed. We chose Accenture & LEGO\n",
    "\n",
    "firm_reviews = file_clean.loc[(file_clean[\"firm\"]== \"Accenture\") | (file_clean[\"firm\"]== \"the-LEGO-Group\")]\n",
    "firm_reviews\n",
    "\n"
   ]
  },
  {
   "cell_type": "code",
   "execution_count": null,
   "id": "fd3ecf80",
   "metadata": {},
   "outputs": [],
   "source": [
    "# VG - Groupby company name & year, showing all years of review\n",
    "firm_group_year = firm_reviews.groupby([\"firm\", \"year\"])\n",
    "\n",
    "\n",
    "firm_group_year.head()"
   ]
  },
  {
   "cell_type": "code",
   "execution_count": null,
   "id": "9d084adb",
   "metadata": {},
   "outputs": [],
   "source": [
    "# VG - Get the mean for each of the criteria being analysed & replace NAN values with 0\n",
    "company_ratings = firm_group_year[\"overall_rating\",\"work_life_balance\",\"culture_values\",\"diversity_inclusion\",\"career_opp\",\"comp_benefits\",\"senior_mgmt\"].mean()\n",
    "company_ratings = company_ratings.fillna(0)\n",
    "\n",
    "company_ratings"
   ]
  },
  {
   "cell_type": "code",
   "execution_count": null,
   "id": "4da26cbe",
   "metadata": {},
   "outputs": [],
   "source": [
    "# VG -  Extract the data for The LEGO Group\n",
    "\n",
    "lego_data = company_ratings.reset_index() \n",
    "legos = reviewdata.loc[reviewdata['firm']== 'the-LEGO-Group']\n",
    "legos"
   ]
  },
  {
   "cell_type": "code",
   "execution_count": null,
   "id": "4f9bd296",
   "metadata": {},
   "outputs": [],
   "source": [
    "# VG -  Create the line chart for LEGO by overall rating\n",
    "\n",
    "plt.plot(legos['year'],legos['overall_rating'])\n",
    "plt.xlabel('Rating by Year')\n",
    "plt.ylabel('Overall Rating')\n",
    "plt.xticks(rotation=70) \n",
    "plt.title('the-LEGO-Group Employee Ratings')\n",
    "\n",
    "# Save into folder\n",
    "plt.savefig(\"../New_Project1/LEGO.png\")\n",
    "\n",
    "plt.show()"
   ]
  },
  {
   "cell_type": "code",
   "execution_count": null,
   "id": "32bde23c",
   "metadata": {},
   "outputs": [],
   "source": [
    "# VG - Extract the data for Accenture\n",
    "\n",
    "\n",
    "accenture_data = company_ratings.reset_index() \n",
    "accenture = reviewdata.loc[reviewdata['firm']== 'Accenture']\n",
    "accenture"
   ]
  },
  {
   "cell_type": "code",
   "execution_count": null,
   "id": "ecb2e4a8",
   "metadata": {},
   "outputs": [],
   "source": [
    "# VG - Create the line chart for Accenture by overall rating\n",
    "\n",
    "\n",
    "plt.plot(accenture['year'],accenture['overall_rating'])\n",
    "plt.xlabel('Rating by Year')\n",
    "plt.ylabel('Overall rating')\n",
    "plt.xticks(rotation=70) \n",
    "plt.title('Accenture Employee Ratings')\n",
    "\n",
    "# Save into folder\n",
    "plt.savefig(\"../New_Project1/Accenture.png\")\n",
    "\n",
    "plt.show()"
   ]
  },
  {
   "cell_type": "code",
   "execution_count": null,
   "id": "3a613fd7",
   "metadata": {},
   "outputs": [],
   "source": [
    "# reset index to obtain the years\n",
    "# reviewdata = company_ratings.reset_index() \n",
    "\n",
    "# # Line chart & labels\n",
    "# plt.plot(reviewdata['year'],reviewdata['overall_rating'])\n",
    "# plt.xlabel('Rating by Year')\n",
    "# plt.ylabel('Overall rating')\n",
    "# plt.xticks(rotation=70) \n",
    "\n",
    "\n",
    "# plt.show()"
   ]
  },
  {
   "cell_type": "code",
   "execution_count": null,
   "id": "e7e9dd1e",
   "metadata": {},
   "outputs": [],
   "source": [
    "# VG - most successfully rated years (overall rating)\n",
    "best_yrs = company_ratings.sort_values(\"overall_rating\", ascending = False)\n",
    "best_yrs.head(10)\n"
   ]
  },
  {
   "cell_type": "code",
   "execution_count": null,
   "id": "05e6aca4",
   "metadata": {},
   "outputs": [],
   "source": [
    "# VG - least successfully rated years (overall rating)\n",
    "low_yrs = best_yrs.tail()\n",
    "low_yrs = low_yrs.sort_values('overall_rating')\n",
    "low_yrs.head()"
   ]
  },
  {
   "cell_type": "code",
   "execution_count": null,
   "id": "95bce8fe",
   "metadata": {},
   "outputs": [],
   "source": [
    "# excel_date = 44341\n",
    "# date = datetime.fromordinal(datetime(1900, 1, 1).toordinal()+ excel_date - 2)\n",
    "\n",
    "# print(date)\n",
    "\n",
    "\n"
   ]
  },
  {
   "cell_type": "code",
   "execution_count": null,
   "id": "fc470c32",
   "metadata": {},
   "outputs": [],
   "source": [
    "best_yrs.plot()\n",
    "xlabel=(\"Firm\")\n",
    "plt.ylabel(\"Ratings\")\n",
    "plt.xticks(rotation=70) \n",
    "plt.legend(loc = \"best\", bbox_to_anchor = (1.0, 1.0))\n",
    "plt.figure(figsize=(20,8))\n",
    "plt.show()"
   ]
  },
  {
   "cell_type": "code",
   "execution_count": null,
   "id": "fe3c74c7",
   "metadata": {},
   "outputs": [],
   "source": [
    "ratings = company_ratings.plot.area(figsize=(20, 8), subplots=True)\n",
    "\n",
    "plt.show()"
   ]
  },
  {
   "cell_type": "code",
   "execution_count": null,
   "id": "0456f1d0",
   "metadata": {},
   "outputs": [],
   "source": []
  }
 ],
 "metadata": {
  "kernelspec": {
   "display_name": "Python 3 (ipykernel)",
   "language": "python",
   "name": "python3"
  },
  "language_info": {
   "codemirror_mode": {
    "name": "ipython",
    "version": 3
   },
   "file_extension": ".py",
   "mimetype": "text/x-python",
   "name": "python",
   "nbconvert_exporter": "python",
   "pygments_lexer": "ipython3",
   "version": "3.7.7"
  }
 },
 "nbformat": 4,
 "nbformat_minor": 5
}
