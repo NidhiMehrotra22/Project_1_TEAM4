{
 "cells": [
  {
   "cell_type": "markdown",
   "id": "9e5585bc",
   "metadata": {},
   "source": [
    "# The Greatest Job Satisfaction Soiree\n",
    "## Project 1 - Team 4\n",
    "\n",
    "### Import Dependencies\n"
   ]
  },
  {
   "cell_type": "code",
   "execution_count": 35,
   "id": "273f2d3e",
   "metadata": {},
   "outputs": [],
   "source": [
    "# JW import all dependencies\n",
    "\n",
    "import pandas as pd\n",
    "import matplotlib.pyplot as plt\n",
    "import scipy.stats as st\n",
    "import numpy as np\n",
    "import gmplot\n",
    "import os\n",
    "\n",
    "# JW Import gmplot library\n",
    "from gmplot import *\n",
    "\n",
    "# JW Set maps API key\n",
    "from config import api_key\n",
    "gmap_apikey = f'{api_key}'\n"
   ]
  },
  {
   "cell_type": "code",
   "execution_count": 36,
   "id": "3d84ec36",
   "metadata": {},
   "outputs": [],
   "source": [
    "# test map\n",
    "\n",
    "\n",
    "gmap = gmplot.GoogleMapPlotter(38.88029, -99.320974, 14, apikey=gmap_apikey)\n",
    "\n",
    "# Location where you want to save your file.\n",
    "gmap.draw( \"map11.html\" )\n"
   ]
  },
  {
   "cell_type": "code",
   "execution_count": 38,
   "id": "4ba03530",
   "metadata": {},
   "outputs": [
    {
     "ename": "AttributeError",
     "evalue": "'GoogleMapPlotter' object has no attribute 'figure'",
     "output_type": "error",
     "traceback": [
      "\u001b[1;31m---------------------------------------------------------------------------\u001b[0m",
      "\u001b[1;31mAttributeError\u001b[0m                            Traceback (most recent call last)",
      "\u001b[1;32m~\\AppData\\Local\\Temp\\ipykernel_129604\\3624425118.py\u001b[0m in \u001b[0;36m<module>\u001b[1;34m\u001b[0m\n\u001b[0;32m      1\u001b[0m \u001b[0mnew_york_coordinates\u001b[0m \u001b[1;33m=\u001b[0m \u001b[1;33m(\u001b[0m\u001b[1;36m40.75\u001b[0m\u001b[1;33m,\u001b[0m \u001b[1;33m-\u001b[0m\u001b[1;36m74.00\u001b[0m\u001b[1;33m)\u001b[0m\u001b[1;33m\u001b[0m\u001b[1;33m\u001b[0m\u001b[0m\n\u001b[1;32m----> 2\u001b[1;33m \u001b[0mgmap\u001b[0m\u001b[1;33m.\u001b[0m\u001b[0mfigure\u001b[0m\u001b[1;33m(\u001b[0m\u001b[0mcenter\u001b[0m\u001b[1;33m=\u001b[0m\u001b[0mnew_york_coordinates\u001b[0m\u001b[1;33m,\u001b[0m \u001b[0mzoom_level\u001b[0m\u001b[1;33m=\u001b[0m\u001b[1;36m12\u001b[0m\u001b[1;33m)\u001b[0m\u001b[1;33m\u001b[0m\u001b[1;33m\u001b[0m\u001b[0m\n\u001b[0m",
      "\u001b[1;31mAttributeError\u001b[0m: 'GoogleMapPlotter' object has no attribute 'figure'"
     ]
    }
   ],
   "source": []
  },
  {
   "cell_type": "code",
   "execution_count": null,
   "id": "7907493f",
   "metadata": {},
   "outputs": [],
   "source": [
    "# JW set file path for CSV\n",
    "\n",
    "csv_file = \"Resources/glassdoor_reviews.csv\""
   ]
  },
  {
   "cell_type": "code",
   "execution_count": null,
   "id": "4f02d174",
   "metadata": {},
   "outputs": [],
   "source": [
    "# JW Read in csv\n",
    "\n",
    "csv_read = pd.read_csv(csv_file)\n",
    "csv_read2 = pd.read_csv(csv_file)\n",
    "print(csv_read.head())\n",
    "print(csv_read2.head())"
   ]
  },
  {
   "cell_type": "code",
   "execution_count": null,
   "id": "8def0411",
   "metadata": {},
   "outputs": [],
   "source": [
    "# JW Check column data types\n",
    "\n",
    "csv_read.dtypes"
   ]
  },
  {
   "cell_type": "code",
   "execution_count": null,
   "id": "7f31c42b",
   "metadata": {},
   "outputs": [],
   "source": [
    "# view columm names\n",
    "for col in csv_read:\n",
    "    print(col)"
   ]
  },
  {
   "cell_type": "code",
   "execution_count": null,
   "id": "c9000695",
   "metadata": {},
   "outputs": [],
   "source": [
    "# clean data / delete columns\n",
    "# keep firm, overall_rating, location, work_life_balance, recommend\n",
    "\n",
    "csv_read.drop(['column_label','date_review', 'job_title', 'current', 'culture_values', 'diversity_inclusion', 'career_opp', 'comp_benefits', 'senior_mgmt','ceo_approv','outlook','headline','pros','cons','use'], axis=1, inplace=True)\n"
   ]
  },
  {
   "cell_type": "code",
   "execution_count": null,
   "id": "7c08a399",
   "metadata": {},
   "outputs": [],
   "source": [
    "csv_read"
   ]
  },
  {
   "cell_type": "code",
   "execution_count": null,
   "id": "fbc53fb8",
   "metadata": {},
   "outputs": [],
   "source": [
    "# remove other firms\n",
    "csv_clean = csv_read.loc[(csv_read[\"firm\"]== \"Accenture\") | (csv_read[\"firm\"]== \"the-LEGO-Group\")]\n",
    "csv_clean\n"
   ]
  },
  {
   "cell_type": "code",
   "execution_count": null,
   "id": "4f443538",
   "metadata": {},
   "outputs": [],
   "source": [
    "# remove rows with NA in location\n",
    "csv_location = csv_clean[csv_clean['location'].notna()]\n",
    "csv_location"
   ]
  },
  {
   "cell_type": "code",
   "execution_count": null,
   "id": "a22a2029",
   "metadata": {},
   "outputs": [],
   "source": [
    "# sort data by location\n",
    "csv_sorted = csv_location.groupby([\"location\"])\n",
    "csv_sorted.head()"
   ]
  },
  {
   "cell_type": "code",
   "execution_count": null,
   "id": "f0454dfb",
   "metadata": {},
   "outputs": [],
   "source": [
    "print(csv_sorted['location'].unique())"
   ]
  },
  {
   "cell_type": "code",
   "execution_count": null,
   "id": "6b2ce114",
   "metadata": {},
   "outputs": [],
   "source": [
    "location_list = csv_sorted['location'].unique()"
   ]
  },
  {
   "cell_type": "code",
   "execution_count": null,
   "id": "15a89e65",
   "metadata": {},
   "outputs": [],
   "source": [
    "location_list"
   ]
  },
  {
   "cell_type": "code",
   "execution_count": null,
   "id": "9a111be1",
   "metadata": {},
   "outputs": [],
   "source": []
  },
  {
   "cell_type": "code",
   "execution_count": null,
   "id": "4578e4ed",
   "metadata": {},
   "outputs": [],
   "source": []
  },
  {
   "cell_type": "code",
   "execution_count": null,
   "id": "7761c2bb",
   "metadata": {},
   "outputs": [],
   "source": []
  }
 ],
 "metadata": {
  "kernelspec": {
   "display_name": "Python 3 (ipykernel)",
   "language": "python",
   "name": "python3"
  },
  "language_info": {
   "codemirror_mode": {
    "name": "ipython",
    "version": 3
   },
   "file_extension": ".py",
   "mimetype": "text/x-python",
   "name": "python",
   "nbconvert_exporter": "python",
   "pygments_lexer": "ipython3",
   "version": "3.7.7"
  }
 },
 "nbformat": 4,
 "nbformat_minor": 5
}
