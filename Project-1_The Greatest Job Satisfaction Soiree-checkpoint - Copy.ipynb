{
 "cells": [
  {
   "cell_type": "markdown",
   "id": "c027710e",
   "metadata": {},
   "source": [
    "# The Greatest Job Satisfaction Soiree\n",
    "## Project 1 - Team 4\n",
    "\n",
    "### Import Dependencies\n"
   ]
  },
  {
   "cell_type": "code",
   "execution_count": 1,
   "id": "310bedb2",
   "metadata": {},
   "outputs": [],
   "source": [
    "# JW import all dependencies\n",
    "\n",
    "import pandas as pd\n",
    "import matplotlib.pyplot as plt\n",
    "import scipy.stats as st\n",
    "import numpy as np\n",
    "import gmplot\n",
    "import os\n",
    "\n",
    "# JW Import gmplot library\n",
    "from gmplot import *\n",
    "\n",
    "# JW Set maps API key\n",
    "from config import api_key\n",
    "gmap_apikey = f'{api_key}'\n"
   ]
  },
  {
   "cell_type": "code",
   "execution_count": 2,
   "id": "658f1cf9",
   "metadata": {},
   "outputs": [],
   "source": [
    "# test map\n",
    "\n",
    "\n",
    "gmap = gmplot.GoogleMapPlotter(38.88029, -99.320974, 14, apikey=gmap_apikey)\n",
    "\n",
    "# Location where you want to save your file.\n",
    "gmap.draw( \"map11.html\" )\n"
   ]
  },
  {
   "cell_type": "code",
   "execution_count": 3,
   "id": "6d3cb459",
   "metadata": {},
   "outputs": [],
   "source": [
    "# JW set file path for CSV\n",
    "\n",
    "csv_file = \"Resources/glassdoor_reviews.csv\""
   ]
  },
  {
   "cell_type": "code",
   "execution_count": 4,
   "id": "3ab7d903",
   "metadata": {},
   "outputs": [
    {
     "name": "stdout",
     "output_type": "stream",
     "text": [
      "   Unnamed: 0  column_label       firm date_review  \\\n",
      "0           1             1  Sotheby-s  2021-05-25   \n",
      "1           2             1  Sotheby-s  2021-05-25   \n",
      "2           3             1  Sotheby-s  2021-05-24   \n",
      "3           4             1  Sotheby-s  2021-05-22   \n",
      "4           5             1  Sotheby-s  2021-05-15   \n",
      "\n",
      "                         job_title                             current  \\\n",
      "0                Financial Analyst   Former Employee, more than 1 year   \n",
      "1                    Administrator                     Former Employee   \n",
      "2   Client Services Representative   Former Employee, more than 1 year   \n",
      "3               Anonymous Employee                    Current Employee   \n",
      "4                    Administrator  Current Employee, less than 1 year   \n",
      "\n",
      "                   location  overall_rating  work_life_balance  \\\n",
      "0              New York, NY               1                1.0   \n",
      "1                 Hong Kong               4                4.0   \n",
      "2  London, England, England               4                5.0   \n",
      "3                 Hong Kong               3                2.0   \n",
      "4  London, England, England               4                4.0   \n",
      "\n",
      "   culture_values  ...  career_opp  comp_benefits  senior_mgmt  recommend  \\\n",
      "0             1.0  ...         1.0            2.0          1.0          x   \n",
      "1             5.0  ...         3.0            4.0          4.0          o   \n",
      "2             4.0  ...         5.0            4.0          5.0          v   \n",
      "3             2.0  ...         3.0            2.0          3.0          o   \n",
      "4             4.0  ...         3.0            3.0          3.0          v   \n",
      "\n",
      "  ceo_approv outlook                                           headline  \\\n",
      "0          r       x                                        Don't do it   \n",
      "1          o       o                        international auction house   \n",
      "2          v       v                Fast-paced, difficult and rewarding   \n",
      "3          o       o                                             Review   \n",
      "4          r       v  Fun job and nice people but huge workload and ...   \n",
      "\n",
      "                                                pros  \\\n",
      "0  People in leadership roles have been there for...   \n",
      "1  great exposure, respectful environment and bea...   \n",
      "2                    Good team, support and training   \n",
      "3    Exposure to artworks, great team of specialists   \n",
      "4  Fantastic art, nice enthusiastic people and a ...   \n",
      "\n",
      "                                                cons use  \n",
      "0  Pressure to do whatever the leaders want\\r\\nNo... NaN  \n",
      "1         OT during peak seasons and often underpaid NaN  \n",
      "2       High-stress with relatively low conpensation NaN  \n",
      "3                 Work life balance, company culture NaN  \n",
      "4                     Very low pay and huge workload NaN  \n",
      "\n",
      "[5 rows x 21 columns]\n",
      "   Unnamed: 0  column_label       firm date_review  \\\n",
      "0           1             1  Sotheby-s  2021-05-25   \n",
      "1           2             1  Sotheby-s  2021-05-25   \n",
      "2           3             1  Sotheby-s  2021-05-24   \n",
      "3           4             1  Sotheby-s  2021-05-22   \n",
      "4           5             1  Sotheby-s  2021-05-15   \n",
      "\n",
      "                         job_title                             current  \\\n",
      "0                Financial Analyst   Former Employee, more than 1 year   \n",
      "1                    Administrator                     Former Employee   \n",
      "2   Client Services Representative   Former Employee, more than 1 year   \n",
      "3               Anonymous Employee                    Current Employee   \n",
      "4                    Administrator  Current Employee, less than 1 year   \n",
      "\n",
      "                   location  overall_rating  work_life_balance  \\\n",
      "0              New York, NY               1                1.0   \n",
      "1                 Hong Kong               4                4.0   \n",
      "2  London, England, England               4                5.0   \n",
      "3                 Hong Kong               3                2.0   \n",
      "4  London, England, England               4                4.0   \n",
      "\n",
      "   culture_values  ...  career_opp  comp_benefits  senior_mgmt  recommend  \\\n",
      "0             1.0  ...         1.0            2.0          1.0          x   \n",
      "1             5.0  ...         3.0            4.0          4.0          o   \n",
      "2             4.0  ...         5.0            4.0          5.0          v   \n",
      "3             2.0  ...         3.0            2.0          3.0          o   \n",
      "4             4.0  ...         3.0            3.0          3.0          v   \n",
      "\n",
      "  ceo_approv outlook                                           headline  \\\n",
      "0          r       x                                        Don't do it   \n",
      "1          o       o                        international auction house   \n",
      "2          v       v                Fast-paced, difficult and rewarding   \n",
      "3          o       o                                             Review   \n",
      "4          r       v  Fun job and nice people but huge workload and ...   \n",
      "\n",
      "                                                pros  \\\n",
      "0  People in leadership roles have been there for...   \n",
      "1  great exposure, respectful environment and bea...   \n",
      "2                    Good team, support and training   \n",
      "3    Exposure to artworks, great team of specialists   \n",
      "4  Fantastic art, nice enthusiastic people and a ...   \n",
      "\n",
      "                                                cons use  \n",
      "0  Pressure to do whatever the leaders want\\r\\nNo... NaN  \n",
      "1         OT during peak seasons and often underpaid NaN  \n",
      "2       High-stress with relatively low conpensation NaN  \n",
      "3                 Work life balance, company culture NaN  \n",
      "4                     Very low pay and huge workload NaN  \n",
      "\n",
      "[5 rows x 21 columns]\n"
     ]
    }
   ],
   "source": [
    "# JW Read in csv\n",
    "\n",
    "csv_read = pd.read_csv(csv_file)\n",
    "csv_read2 = pd.read_csv(csv_file)\n",
    "print(csv_read.head())\n",
    "print(csv_read2.head())"
   ]
  },
  {
   "cell_type": "code",
   "execution_count": 5,
   "id": "2aeb3381",
   "metadata": {},
   "outputs": [
    {
     "data": {
      "text/plain": [
       "Unnamed: 0               int64\n",
       "column_label             int64\n",
       "firm                    object\n",
       "date_review             object\n",
       "job_title               object\n",
       "current                 object\n",
       "location                object\n",
       "overall_rating           int64\n",
       "work_life_balance      float64\n",
       "culture_values         float64\n",
       "diversity_inclusion    float64\n",
       "career_opp             float64\n",
       "comp_benefits          float64\n",
       "senior_mgmt            float64\n",
       "recommend               object\n",
       "ceo_approv              object\n",
       "outlook                 object\n",
       "headline                object\n",
       "pros                    object\n",
       "cons                    object\n",
       "use                    float64\n",
       "dtype: object"
      ]
     },
     "execution_count": 5,
     "metadata": {},
     "output_type": "execute_result"
    }
   ],
   "source": [
    "# JW Check column data types\n",
    "\n",
    "csv_read.dtypes"
   ]
  },
  {
   "cell_type": "code",
   "execution_count": 6,
   "id": "519401ce",
   "metadata": {
    "scrolled": true
   },
   "outputs": [],
   "source": [
    "# csv_read.groupby('location')[['overall_rating', 'work_life_balance']].mean()"
   ]
  },
  {
   "cell_type": "code",
   "execution_count": 7,
   "id": "d24cf255",
   "metadata": {},
   "outputs": [
    {
     "name": "stdout",
     "output_type": "stream",
     "text": [
      "Unnamed: 0\n",
      "column_label\n",
      "firm\n",
      "date_review\n",
      "job_title\n",
      "current\n",
      "location\n",
      "overall_rating\n",
      "work_life_balance\n",
      "culture_values\n",
      "diversity_inclusion\n",
      "career_opp\n",
      "comp_benefits\n",
      "senior_mgmt\n",
      "recommend\n",
      "ceo_approv\n",
      "outlook\n",
      "headline\n",
      "pros\n",
      "cons\n",
      "use\n"
     ]
    }
   ],
   "source": [
    "# view columm names\n",
    "for col in csv_read:\n",
    "    print(col)"
   ]
  },
  {
   "cell_type": "code",
   "execution_count": 8,
   "id": "0e428a0d",
   "metadata": {},
   "outputs": [],
   "source": [
    "# clean data / delete columns\n",
    "# keep firm, overall_rating, location, work_life_balance, recommend\n",
    "\n",
    "csv_clean = csv_read.drop(['Unnamed: 0', 'column_label','date_review', 'job_title', 'current', 'culture_values', 'diversity_inclusion', 'career_opp', 'comp_benefits', 'senior_mgmt','ceo_approv','outlook','headline','pros','cons','use'], axis=1, inplace=True)\n"
   ]
  },
  {
   "cell_type": "code",
   "execution_count": 9,
   "id": "71098118",
   "metadata": {},
   "outputs": [
    {
     "data": {
      "text/html": [
       "<div>\n",
       "<style scoped>\n",
       "    .dataframe tbody tr th:only-of-type {\n",
       "        vertical-align: middle;\n",
       "    }\n",
       "\n",
       "    .dataframe tbody tr th {\n",
       "        vertical-align: top;\n",
       "    }\n",
       "\n",
       "    .dataframe thead th {\n",
       "        text-align: right;\n",
       "    }\n",
       "</style>\n",
       "<table border=\"1\" class=\"dataframe\">\n",
       "  <thead>\n",
       "    <tr style=\"text-align: right;\">\n",
       "      <th></th>\n",
       "      <th>overall_rating</th>\n",
       "      <th>work_life_balance</th>\n",
       "    </tr>\n",
       "    <tr>\n",
       "      <th>location</th>\n",
       "      <th></th>\n",
       "      <th></th>\n",
       "    </tr>\n",
       "  </thead>\n",
       "  <tbody>\n",
       "    <tr>\n",
       "      <th>'s-Hertogenbosch</th>\n",
       "      <td>4.50</td>\n",
       "      <td>3.5</td>\n",
       "    </tr>\n",
       "    <tr>\n",
       "      <th>A Coruña</th>\n",
       "      <td>4.75</td>\n",
       "      <td>4.0</td>\n",
       "    </tr>\n",
       "    <tr>\n",
       "      <th>ASHBURTON, Canterbury</th>\n",
       "      <td>2.00</td>\n",
       "      <td>NaN</td>\n",
       "    </tr>\n",
       "    <tr>\n",
       "      <th>Aa Junction, AR</th>\n",
       "      <td>4.00</td>\n",
       "      <td>NaN</td>\n",
       "    </tr>\n",
       "    <tr>\n",
       "      <th>Aalborg</th>\n",
       "      <td>4.00</td>\n",
       "      <td>3.0</td>\n",
       "    </tr>\n",
       "    <tr>\n",
       "      <th>...</th>\n",
       "      <td>...</td>\n",
       "      <td>...</td>\n",
       "    </tr>\n",
       "    <tr>\n",
       "      <th>‘Arab al Ma‘‘āzah</th>\n",
       "      <td>5.00</td>\n",
       "      <td>NaN</td>\n",
       "    </tr>\n",
       "    <tr>\n",
       "      <th>‘Asalūyeh</th>\n",
       "      <td>4.00</td>\n",
       "      <td>NaN</td>\n",
       "    </tr>\n",
       "    <tr>\n",
       "      <th>‘Asamah</th>\n",
       "      <td>4.00</td>\n",
       "      <td>3.0</td>\n",
       "    </tr>\n",
       "    <tr>\n",
       "      <th>‘Ibrī</th>\n",
       "      <td>3.00</td>\n",
       "      <td>4.0</td>\n",
       "    </tr>\n",
       "    <tr>\n",
       "      <th>西岸</th>\n",
       "      <td>1.00</td>\n",
       "      <td>1.0</td>\n",
       "    </tr>\n",
       "  </tbody>\n",
       "</table>\n",
       "<p>14487 rows × 2 columns</p>\n",
       "</div>"
      ],
      "text/plain": [
       "                       overall_rating  work_life_balance\n",
       "location                                                \n",
       "'s-Hertogenbosch                 4.50                3.5\n",
       "A Coruña                         4.75                4.0\n",
       "ASHBURTON, Canterbury            2.00                NaN\n",
       "Aa Junction, AR                  4.00                NaN\n",
       "Aalborg                          4.00                3.0\n",
       "...                               ...                ...\n",
       "‘Arab al Ma‘‘āzah                5.00                NaN\n",
       "‘Asalūyeh                        4.00                NaN\n",
       "‘Asamah                          4.00                3.0\n",
       "‘Ibrī                            3.00                4.0\n",
       "西岸                               1.00                1.0\n",
       "\n",
       "[14487 rows x 2 columns]"
      ]
     },
     "execution_count": 9,
     "metadata": {},
     "output_type": "execute_result"
    }
   ],
   "source": [
    "# JW find average rating for all companies\n",
    "\n",
    "average_rating = csv_read.groupby('location')[['overall_rating', 'work_life_balance']].mean()\n",
    "average_rating"
   ]
  },
  {
   "cell_type": "code",
   "execution_count": 10,
   "id": "16f425c5",
   "metadata": {},
   "outputs": [],
   "source": [
    "# remove other firms\n",
    "# csv_clean = csv_read.loc[(csv_read[\"firm\"]== \"Accenture\") | (csv_read[\"firm\"]== \"the-LEGO-Group\")]\n",
    "# csv_clean\n",
    "\n",
    "# csv_location = csv_clean[csv_clean['location'].notna()]\n",
    "# csv_location\n",
    "\n",
    "# split df into chosen companies\n",
    "\n",
    "accenture_clean = csv_read.loc[(csv_read[\"firm\"]== \"Accenture\")]\n",
    "lego_clean = csv_read.loc[(csv_read[\"firm\"]== \"the-LEGO-Group\")]\n"
   ]
  },
  {
   "cell_type": "code",
   "execution_count": 11,
   "id": "323d2151",
   "metadata": {},
   "outputs": [
    {
     "data": {
      "text/html": [
       "<div>\n",
       "<style scoped>\n",
       "    .dataframe tbody tr th:only-of-type {\n",
       "        vertical-align: middle;\n",
       "    }\n",
       "\n",
       "    .dataframe tbody tr th {\n",
       "        vertical-align: top;\n",
       "    }\n",
       "\n",
       "    .dataframe thead th {\n",
       "        text-align: right;\n",
       "    }\n",
       "</style>\n",
       "<table border=\"1\" class=\"dataframe\">\n",
       "  <thead>\n",
       "    <tr style=\"text-align: right;\">\n",
       "      <th></th>\n",
       "      <th>overall_rating</th>\n",
       "      <th>work_life_balance</th>\n",
       "    </tr>\n",
       "    <tr>\n",
       "      <th>location</th>\n",
       "      <th></th>\n",
       "      <th></th>\n",
       "    </tr>\n",
       "  </thead>\n",
       "  <tbody>\n",
       "    <tr>\n",
       "      <th>Aarhus</th>\n",
       "      <td>4.0</td>\n",
       "      <td>3.0</td>\n",
       "    </tr>\n",
       "    <tr>\n",
       "      <th>Amsterdam</th>\n",
       "      <td>4.0</td>\n",
       "      <td>4.0</td>\n",
       "    </tr>\n",
       "    <tr>\n",
       "      <th>Anaheim, CA</th>\n",
       "      <td>4.0</td>\n",
       "      <td>3.0</td>\n",
       "    </tr>\n",
       "    <tr>\n",
       "      <th>Anchorage, AK</th>\n",
       "      <td>4.0</td>\n",
       "      <td>5.0</td>\n",
       "    </tr>\n",
       "    <tr>\n",
       "      <th>Atlanta, GA</th>\n",
       "      <td>2.0</td>\n",
       "      <td>2.0</td>\n",
       "    </tr>\n",
       "  </tbody>\n",
       "</table>\n",
       "</div>"
      ],
      "text/plain": [
       "               overall_rating  work_life_balance\n",
       "location                                        \n",
       "Aarhus                    4.0                3.0\n",
       "Amsterdam                 4.0                4.0\n",
       "Anaheim, CA               4.0                3.0\n",
       "Anchorage, AK             4.0                5.0\n",
       "Atlanta, GA               2.0                2.0"
      ]
     },
     "execution_count": 11,
     "metadata": {},
     "output_type": "execute_result"
    }
   ],
   "source": [
    "# JW find the mean ratings for each location\n",
    "\n",
    "lego_mean = lego_clean.groupby('location')[['overall_rating', 'work_life_balance']].mean()\n",
    "accenture_mean = accenture_clean.groupby('location')[['overall_rating', 'work_life_balance']].mean()\n",
    "\n",
    "lego_mean.head()"
   ]
  },
  {
   "cell_type": "code",
   "execution_count": 12,
   "id": "ee3c394c",
   "metadata": {},
   "outputs": [
    {
     "name": "stderr",
     "output_type": "stream",
     "text": [
      "C:\\Users\\jonow\\anaconda3\\envs\\PythonData\\lib\\site-packages\\ipykernel_launcher.py:7: MatplotlibDeprecationWarning: Using a string of single character colors as a color sequence is deprecated. Use an explicit list instead.\n",
      "  import sys\n"
     ]
    },
    {
     "data": {
      "text/plain": [
       "(array([0., 1., 2., 3., 4., 5., 6.]),\n",
       " <a list of 7 Text major ticklabel objects>)"
      ]
     },
     "execution_count": 12,
     "metadata": {},
     "output_type": "execute_result"
    },
    {
     "data": {
      "image/png": "[encoded data removed]",
      "text/plain": [
       "<Figure size 504x504 with 1 Axes>"
      ]
     },
     "metadata": {
      "needs_background": "light"
     },
     "output_type": "display_data"
    }
   ],
   "source": [
    "X = list(lego_mean.iloc[:, 0])\n",
    "Y = list(lego_mean.iloc[:, 1])\n",
    "\n",
    "\n",
    "plt.figure(figsize=(7,7))\n",
    " \n",
    "plt.bar(X, Y, color='rgbwymc')\n",
    " \n",
    "plt.xticks(rotation=45)"
   ]
  },
  {
   "cell_type": "code",
   "execution_count": null,
   "id": "dc5c3b39",
   "metadata": {},
   "outputs": [],
   "source": []
  },
  {
   "cell_type": "code",
   "execution_count": null,
   "id": "f1815c5d",
   "metadata": {},
   "outputs": [],
   "source": []
  },
  {
   "cell_type": "code",
   "execution_count": null,
   "id": "52c81128",
   "metadata": {},
   "outputs": [],
   "source": []
  },
  {
   "cell_type": "code",
   "execution_count": null,
   "id": "de7aa5bf",
   "metadata": {},
   "outputs": [],
   "source": []
  },
  {
   "cell_type": "code",
   "execution_count": null,
   "id": "10040b5b",
   "metadata": {},
   "outputs": [],
   "source": [
    "# # sort data by location\n",
    "# csv_sorted = csv_location.groupby([\"location\"])\n",
    "# csv_sorted.head()"
   ]
  },
  {
   "cell_type": "code",
   "execution_count": null,
   "id": "10b10da4",
   "metadata": {},
   "outputs": [],
   "source": [
    "# csv_sorted.groupby('location')[['overall_rating', 'work_life_balance']].mean()"
   ]
  },
  {
   "cell_type": "code",
   "execution_count": null,
   "id": "6dc222f7",
   "metadata": {},
   "outputs": [],
   "source": [
    "#  # Figure out the minimum and maximum rating\n",
    "# print(csv_sorted[\"overall_rating\"].max())\n",
    "# print(csv_sorted[\"overall_rating\"].min())"
   ]
  },
  {
   "cell_type": "code",
   "execution_count": null,
   "id": "379b3b5d",
   "metadata": {},
   "outputs": [],
   "source": [
    "# print(csv_sorted['location'].unique())"
   ]
  },
  {
   "cell_type": "code",
   "execution_count": null,
   "id": "44021cf7",
   "metadata": {},
   "outputs": [],
   "source": [
    "# location_list = csv_sorted['location'].unique()"
   ]
  },
  {
   "cell_type": "code",
   "execution_count": null,
   "id": "23740a9e",
   "metadata": {},
   "outputs": [],
   "source": [
    "# location_list"
   ]
  },
  {
   "cell_type": "code",
   "execution_count": null,
   "id": "3322be71",
   "metadata": {},
   "outputs": [],
   "source": [
    "# # JW calculate the number of unique locations\n",
    "\n",
    "# country_count = len(csv_sorted[\"location\"].unique())\n",
    "# country_count"
   ]
  },
  {
   "cell_type": "code",
   "execution_count": null,
   "id": "7ce5b841",
   "metadata": {},
   "outputs": [],
   "source": []
  },
  {
   "cell_type": "code",
   "execution_count": null,
   "id": "ea8d2d22",
   "metadata": {},
   "outputs": [],
   "source": []
  }
 ],
 "metadata": {
  "kernelspec": {
   "display_name": "Python 3 (ipykernel)",
   "language": "python",
   "name": "python3"
  },
  "language_info": {
   "codemirror_mode": {
    "name": "ipython",
    "version": 3
   },
   "file_extension": ".py",
   "mimetype": "text/x-python",
   "name": "python",
   "nbconvert_exporter": "python",
   "pygments_lexer": "ipython3",
   "version": "3.7.7"
  }
 },
 "nbformat": 4,
 "nbformat_minor": 5
}
